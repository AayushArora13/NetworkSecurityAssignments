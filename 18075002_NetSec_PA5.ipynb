{
  "nbformat": 4,
  "nbformat_minor": 0,
  "metadata": {
    "colab": {
      "name": "18075002_NetSec_PA5.ipynb",
      "provenance": []
    },
    "kernelspec": {
      "name": "python3",
      "display_name": "Python 3"
    },
    "language_info": {
      "name": "python"
    }
  },
  "cells": [
    {
      "cell_type": "code",
      "execution_count": 1,
      "metadata": {
        "colab": {
          "base_uri": "https://localhost:8080/"
        },
        "id": "ldGzdlQpTklD",
        "outputId": "e1f979aa-c2a3-4bb6-fd2e-8c03c94c7440"
      },
      "outputs": [
        {
          "output_type": "stream",
          "name": "stdout",
          "text": [
            "The Original Message is : Lab assignmnet 5 network security\n",
            "g:  3436411115043375912347979881990007505346735590610\n",
            "g^a:  1518829762202898370539297468233625290806972622775\n",
            "g^k:  4173538168011124725729523775929709366059598751640\n",
            "g^ak:  4119717308008716177911566068708749713704148058960\n",
            "The Decrypted Message is : Lab assignmnet 5 network security\n"
          ]
        }
      ],
      "source": [
        "# Program using python to describe the working of El Gamal algorithm\n",
        "\n",
        "from math import pow\n",
        "import random\n",
        "\n",
        "\n",
        "a = random.randint(2, 10)\n",
        "\n",
        "def gcd(c, d):\n",
        "\tif c < d:\n",
        "\t\treturn gcd(d, c)\n",
        "\telif c % d == 0:\n",
        "\t\treturn d;\n",
        "\telse:\n",
        "\t\treturn gcd(d, c % d)\n",
        "\n",
        "def generated_key(q):\n",
        "\n",
        "\tkey = random.randint(pow(10, 20), q)\n",
        "\twhile gcd(q, key) != 1:\n",
        "\t\tkey = random.randint(pow(10, 20), q)\n",
        "\n",
        "\treturn key\n",
        "\n",
        "def poww(aa, bb, cc):\n",
        "\txx = 1\n",
        "\tyy = aa\n",
        "\n",
        "\twhile bb > 0:\n",
        "\t\tif bb % 2 != 0:\n",
        "\t\t\txx = (xx * yy) % cc;\n",
        "\t\tyy = (yy * yy) % cc\n",
        "\t\tbb = int(bb / 2)\n",
        "\n",
        "\treturn xx % cc\n",
        "\n",
        "def encrypt_msg(message, q, h, g):\n",
        "\n",
        "\ten_message = []\n",
        "\n",
        "\tk = generated_key(q)\n",
        "\ts = poww(h, k, q)\n",
        "\tp = poww(g, k, q)\n",
        "\t\n",
        "\tfor i in range(0, len(message)):\n",
        "\t\ten_message.append(message[i])\n",
        "\n",
        "\tprint(\"g^k: \", p)\n",
        "\tprint(\"g^ak: \", s)\n",
        "\tfor i in range(0, len(en_message)):\n",
        "\t\ten_message[i] = s * ord(en_message[i])\n",
        "\n",
        "\treturn en_message, p\n",
        "\n",
        "def decrypt_msg(en_message, p, key, q):\n",
        "\n",
        "\tdr_message = []\n",
        "\th = poww(p, key, q)\n",
        "\tfor i in range(0, len(en_message)):\n",
        "\t\tdr_message.append(chr(int(en_message[i]/h)))\n",
        "\t\t\n",
        "\treturn dr_message\n",
        "\n",
        "# Driver code\n",
        "def main():\n",
        "\n",
        "\tmessage = 'Lab assignmnet 5 network security'\n",
        "\tprint(\"The Original Message is :\", message)\n",
        "\n",
        "\tq = random.randint(pow(10, 20), pow(10, 50))\n",
        "\tg = random.randint(2, q)\n",
        "\n",
        "\tencryption_key = generated_key(q)\n",
        "\th = poww(g, encryption_key, q)\n",
        "\tprint(\"g: \", g)\n",
        "\tprint(\"g^a: \", h)\n",
        "\n",
        "\ten_message, p = encrypt_msg(message, q, h, g)\n",
        "\tdr_message = decrypt_msg(en_message, p, encryption_key, q)\n",
        "\tdmessage = ''.join(dr_message)\n",
        "\tprint(\"The Decrypted Message is :\", dmessage);\n",
        "\n",
        "\n",
        "if __name__ == '__main__':\n",
        "\tmain()\n"
      ]
    },
    {
      "cell_type": "code",
      "source": [
        ""
      ],
      "metadata": {
        "id": "VH2JHaBoTqFj"
      },
      "execution_count": null,
      "outputs": []
    }
  ]
}